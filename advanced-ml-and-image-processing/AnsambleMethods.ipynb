{
 "cells": [
  {
   "cell_type": "markdown",
   "id": "3f926395",
   "metadata": {},
   "source": [
    "# Ансамблевые методы"
   ]
  },
  {
   "cell_type": "code",
   "execution_count": 1,
   "id": "55754c48",
   "metadata": {},
   "outputs": [],
   "source": [
    "import cv2\n",
    "from sklearn.ensemble import BaggingClassifier\n",
    "from sklearn.tree import DecisionTreeClassifier\n",
    "from sklearn.svm import LinearSVC\n",
    "from sklearn.ensemble import RandomForestClassifier\n",
    "from sklearn.linear_model import LogisticRegression\n",
    "from sklearn.ensemble import StackingClassifier\n",
    "from imutils import paths\n",
    "import numpy as np"
   ]
  },
  {
   "cell_type": "markdown",
   "id": "9e369537",
   "metadata": {},
   "source": [
    "### Загрузка выборки изображений кошек и собак"
   ]
  },
  {
   "cell_type": "code",
   "execution_count": 2,
   "id": "4631728d",
   "metadata": {},
   "outputs": [],
   "source": [
    "imagePaths = sorted(list(paths.list_images('train_task4\\\\train')))"
   ]
  },
  {
   "cell_type": "code",
   "execution_count": 28,
   "id": "37e7d79a",
   "metadata": {},
   "outputs": [],
   "source": [
    "def extract_histogram(image, bins=(8, 8, 8)):\n",
    "    hist = cv2.calcHist([image], [0, 1, 2], None, bins, [0, 256, 0, 256, 0, 256])\n",
    "    cv2.normalize(hist, hist)\n",
    "    return hist.flatten()\n",
    "\n",
    "def classification(image_path: list[str]) -> list[int]:\n",
    "    y = []\n",
    "    for image in imagePaths:\n",
    "        if ('cat' in image):\n",
    "            y.append(1)\n",
    "        elif ('dog' in image):\n",
    "            y.append(0)\n",
    "        else:\n",
    "            y.append(-1)\n",
    "    return y"
   ]
  },
  {
   "cell_type": "code",
   "execution_count": 29,
   "id": "aac5a873",
   "metadata": {},
   "outputs": [],
   "source": [
    "X = [extract_histogram(cv2.imread(image)) for image in imagePaths]\n",
    "y = np.array(classification(imagePaths))"
   ]
  },
  {
   "cell_type": "code",
   "execution_count": 30,
   "id": "2a6ff940",
   "metadata": {},
   "outputs": [],
   "source": [
    "SAMPLE_LIST = [\"test_task\\\\test\\\\cat.1009.jpg\",\n",
    "               \"test_task\\\\test\\\\cat.1015.jpg\",\n",
    "               \"test_task\\\\test\\\\cat.1028.jpg\",\n",
    "               \"test_task\\\\test\\\\dog.1014.jpg\"]"
   ]
  },
  {
   "cell_type": "markdown",
   "id": "ab5fe4da",
   "metadata": {},
   "source": [
    "## Обучение базовых алгоритмов на исходном наборе данных"
   ]
  },
  {
   "cell_type": "markdown",
   "id": "aa58db1f",
   "metadata": {},
   "source": [
    "Классификатор с мягким зазором"
   ]
  },
  {
   "cell_type": "code",
   "execution_count": 31,
   "id": "987cd95d",
   "metadata": {},
   "outputs": [
    {
     "data": {
      "text/plain": [
       "LinearSVC(C=1.74, random_state=220)"
      ]
     },
     "execution_count": 31,
     "metadata": {},
     "output_type": "execute_result"
    }
   ],
   "source": [
    "svm = LinearSVC(C = 1.74, random_state = 220)\n",
    "svm.fit(X,y)"
   ]
  },
  {
   "cell_type": "markdown",
   "id": "8a346818",
   "metadata": {},
   "source": [
    "Бэггинг деревьев принятия решений"
   ]
  },
  {
   "cell_type": "code",
   "execution_count": 32,
   "id": "36e28a92",
   "metadata": {},
   "outputs": [
    {
     "data": {
      "text/plain": [
       "BaggingClassifier(base_estimator=DecisionTreeClassifier(criterion='entropy',\n",
       "                                                        max_leaf_nodes=20,\n",
       "                                                        min_samples_leaf=10,\n",
       "                                                        random_state=220),\n",
       "                  n_estimators=19, random_state=220)"
      ]
     },
     "execution_count": 32,
     "metadata": {},
     "output_type": "execute_result"
    }
   ],
   "source": [
    "bagging = BaggingClassifier(DecisionTreeClassifier(criterion = 'entropy', \n",
    "                                                   min_samples_leaf = 10, max_leaf_nodes = 20, random_state = 220),n_estimators = 19,random_state = 220)\n",
    "bagging.fit(X,y)"
   ]
  },
  {
   "cell_type": "markdown",
   "id": "426af480",
   "metadata": {},
   "source": [
    "Случайный лес"
   ]
  },
  {
   "cell_type": "code",
   "execution_count": 33,
   "id": "eceef50a",
   "metadata": {},
   "outputs": [
    {
     "data": {
      "text/plain": [
       "RandomForestClassifier(criterion='entropy', max_leaf_nodes=20,\n",
       "                       min_samples_leaf=10, n_estimators=19, random_state=220)"
      ]
     },
     "execution_count": 33,
     "metadata": {},
     "output_type": "execute_result"
    }
   ],
   "source": [
    "forest = RandomForestClassifier(n_estimators = 19, criterion = 'entropy',min_samples_leaf = 10, max_leaf_nodes = 20, random_state = 220)\n",
    "forest.fit(X,y)"
   ]
  },
  {
   "cell_type": "markdown",
   "id": "ca82c4b1",
   "metadata": {},
   "source": [
    "## Инициализация метаалгоритма"
   ]
  },
  {
   "cell_type": "markdown",
   "id": "8a48631b",
   "metadata": {},
   "source": [
    "Логистическая регрессия"
   ]
  },
  {
   "cell_type": "code",
   "execution_count": 34,
   "id": "566b25f8",
   "metadata": {},
   "outputs": [],
   "source": [
    "log_reg = LogisticRegression(solver='lbfgs',random_state = 220)"
   ]
  },
  {
   "cell_type": "markdown",
   "id": "05170498",
   "metadata": {},
   "source": [
    "## Обучение модели стэкинга"
   ]
  },
  {
   "cell_type": "markdown",
   "id": "88a00d31",
   "metadata": {},
   "source": [
    "Используется 2-fold (`cv = 2`) кросс-валидация"
   ]
  },
  {
   "cell_type": "code",
   "execution_count": 35,
   "id": "48ae60f3",
   "metadata": {},
   "outputs": [
    {
     "data": {
      "text/plain": [
       "StackingClassifier(cv=2,\n",
       "                   estimators=[('SVM', LinearSVC(C=1.74, random_state=220)),\n",
       "                               ('Bagging DT',\n",
       "                                BaggingClassifier(base_estimator=DecisionTreeClassifier(criterion='entropy',\n",
       "                                                                                        max_leaf_nodes=20,\n",
       "                                                                                        min_samples_leaf=10,\n",
       "                                                                                        random_state=220),\n",
       "                                                  n_estimators=19,\n",
       "                                                  random_state=220)),\n",
       "                               ('DecisionForest',\n",
       "                                RandomForestClassifier(criterion='entropy',\n",
       "                                                       max_leaf_nodes=20,\n",
       "                                                       min_samples_leaf=10,\n",
       "                                                       n_estimators=19,\n",
       "                                                       random_state=220))],\n",
       "                   final_estimator=LogisticRegression(random_state=220))"
      ]
     },
     "execution_count": 35,
     "metadata": {},
     "output_type": "execute_result"
    }
   ],
   "source": [
    "base_estimators = [('SVM', svm), ('Bagging DT', bagging), ('DecisionForest', forest)]\n",
    "sclf = StackingClassifier(estimators=base_estimators, final_estimator=log_reg, cv=2)\n",
    "sclf.fit(X,y)"
   ]
  },
  {
   "cell_type": "markdown",
   "id": "bc5501e3",
   "metadata": {},
   "source": [
    "### Доля правильной классификации на тренировочных данных"
   ]
  },
  {
   "cell_type": "code",
   "execution_count": 36,
   "id": "34b53229",
   "metadata": {},
   "outputs": [
    {
     "data": {
      "text/plain": [
       "0.851"
      ]
     },
     "execution_count": 36,
     "metadata": {},
     "output_type": "execute_result"
    }
   ],
   "source": [
    "sclf.score(X,y)"
   ]
  },
  {
   "cell_type": "markdown",
   "id": "5bd24e22",
   "metadata": {},
   "source": [
    "### Вероятности отнесения изображений к классам с помощью обученного метаалгоритма"
   ]
  },
  {
   "cell_type": "code",
   "execution_count": 37,
   "id": "1df9f0ce",
   "metadata": {},
   "outputs": [
    {
     "name": "stdout",
     "output_type": "stream",
     "text": [
      "[[0.52571911 0.47428089]]\n",
      "[[0.3207964 0.6792036]]\n",
      "[[0.51493032 0.48506968]]\n",
      "[[0.32412333 0.67587667]]\n"
     ]
    }
   ],
   "source": [
    "Test_sample = np.array(extract_histogram(cv2.imread(SAMPLE_LIST[0]))).reshape(1,-1)\n",
    "print(sclf.predict_proba(Test_sample))\n",
    "Test_sample1 = np.array(extract_histogram(cv2.imread(SAMPLE_LIST[1]))).reshape(1,-1)\n",
    "print(sclf.predict_proba(Test_sample1))\n",
    "Test_sample2 = np.array(extract_histogram(cv2.imread(SAMPLE_LIST[2]))).reshape(1,-1)\n",
    "print(sclf.predict_proba(Test_sample2))\n",
    "Test_sample3 = np.array(extract_histogram(cv2.imread(SAMPLE_LIST[3]))).reshape(1,-1)\n",
    "print(sclf.predict_proba(Test_sample3))"
   ]
  },
  {
   "cell_type": "code",
   "execution_count": 38,
   "id": "f3d5db60",
   "metadata": {},
   "outputs": [
    {
     "name": "stdout",
     "output_type": "stream",
     "text": [
      "[0]\n",
      "[1]\n",
      "[0]\n",
      "[1]\n"
     ]
    }
   ],
   "source": [
    "Test_sample = np.array(extract_histogram(cv2.imread(SAMPLE_LIST[0]))).reshape(1,-1)\n",
    "print(sclf.predict(Test_sample))\n",
    "Test_sample1 = np.array(extract_histogram(cv2.imread(SAMPLE_LIST[1]))).reshape(1,-1)\n",
    "print(sclf.predict(Test_sample1))\n",
    "Test_sample2 = np.array(extract_histogram(cv2.imread(SAMPLE_LIST[2]))).reshape(1,-1)\n",
    "print(sclf.predict(Test_sample2))\n",
    "Test_sample3 = np.array(extract_histogram(cv2.imread(SAMPLE_LIST[3]))).reshape(1,-1)\n",
    "print(sclf.predict(Test_sample3))"
   ]
  }
 ],
 "metadata": {
  "kernelspec": {
   "display_name": "Python 3 (ipykernel)",
   "language": "python",
   "name": "python3"
  },
  "language_info": {
   "codemirror_mode": {
    "name": "ipython",
    "version": 3
   },
   "file_extension": ".py",
   "mimetype": "text/x-python",
   "name": "python",
   "nbconvert_exporter": "python",
   "pygments_lexer": "ipython3",
   "version": "3.9.12"
  }
 },
 "nbformat": 4,
 "nbformat_minor": 5
}
