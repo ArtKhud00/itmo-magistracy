{
 "cells": [
  {
   "cell_type": "markdown",
   "id": "530c4daf",
   "metadata": {},
   "source": [
    "# Метод главных компонент"
   ]
  },
  {
   "cell_type": "code",
   "execution_count": 2,
   "id": "223e5eec",
   "metadata": {},
   "outputs": [],
   "source": [
    "import pandas as pd\n",
    "import numpy as np\n",
    "from sklearn.decomposition import PCA\n",
    "import matplotlib.pyplot as plt"
   ]
  },
  {
   "cell_type": "markdown",
   "id": "cfa1e018",
   "metadata": {},
   "source": [
    "## Загрузка синтетических данных об объектах, обладающих 10 признаками"
   ]
  },
  {
   "cell_type": "code",
   "execution_count": 3,
   "id": "b785bd9f",
   "metadata": {},
   "outputs": [],
   "source": [
    "dataset = np.loadtxt('14_25.csv',delimiter=',')\n",
    "dataset = np.array(dataset)"
   ]
  },
  {
   "cell_type": "markdown",
   "id": "c4512a65",
   "metadata": {},
   "source": [
    "## Переход к новым координатам с использованием метода главных компонент"
   ]
  },
  {
   "cell_type": "code",
   "execution_count": 5,
   "id": "f398e38d",
   "metadata": {},
   "outputs": [],
   "source": [
    "X = dataset\n",
    "pca = PCA(n_components=2, svd_solver='full')\n",
    "res = pca.fit_transform(X)"
   ]
  },
  {
   "cell_type": "markdown",
   "id": "9af5061a",
   "metadata": {},
   "source": [
    "### Координаты первого объекта относительно главных компонент"
   ]
  },
  {
   "cell_type": "code",
   "execution_count": 6,
   "id": "3a909e1e",
   "metadata": {},
   "outputs": [
    {
     "name": "stdout",
     "output_type": "stream",
     "text": [
      "[39.56091195  7.1556622 ]\n"
     ]
    }
   ],
   "source": [
    "print(res[0])"
   ]
  },
  {
   "cell_type": "markdown",
   "id": "0d26ba61",
   "metadata": {},
   "source": [
    "### Доля объясненной дисперсии при использовании первых двух главных компонент"
   ]
  },
  {
   "cell_type": "code",
   "execution_count": 25,
   "id": "1c62b0df",
   "metadata": {},
   "outputs": [
    {
     "name": "stdout",
     "output_type": "stream",
     "text": [
      "[0.51404171 0.26703582]\n",
      "sum =  0.7810775364133511\n"
     ]
    }
   ],
   "source": [
    "variance = pca.explained_variance_ratio_\n",
    "print(variance)\n",
    "print('sum = ', variance[0]+variance[1])"
   ]
  },
  {
   "cell_type": "markdown",
   "id": "cfdfb36a",
   "metadata": {},
   "source": [
    "### Количество главных компонент, при котором доля объясненной дисперсии превышает 0.85"
   ]
  },
  {
   "cell_type": "code",
   "execution_count": 7,
   "id": "9dffae44",
   "metadata": {},
   "outputs": [
    {
     "name": "stdout",
     "output_type": "stream",
     "text": [
      "[0.51404171 0.26703582 0.12423541]\n",
      "sum =  0.905312945824781\n"
     ]
    }
   ],
   "source": [
    "pca1 = PCA(n_components=3, svd_solver='full')\n",
    "res1 = pca1.fit_transform(X)\n",
    "#print(res1)\n",
    "variance1 = pca1.explained_variance_ratio_\n",
    "print(variance1)\n",
    "print('sum = ', variance1[0]+variance1[1]+variance1[2])"
   ]
  },
  {
   "cell_type": "markdown",
   "id": "c719485a",
   "metadata": {},
   "source": [
    "### Количество групп объектов при использовании только первых двух главных компонент"
   ]
  },
  {
   "cell_type": "code",
   "execution_count": 23,
   "id": "dc49e3d8",
   "metadata": {},
   "outputs": [
    {
     "data": {
      "text/plain": [
       "<matplotlib.collections.PathCollection at 0x179727ec1f0>"
      ]
     },
     "execution_count": 23,
     "metadata": {},
     "output_type": "execute_result"
    },
    {
     "data": {
      "image/png": "[encoded data removed]",
      "text/plain": [
       "<Figure size 432x288 with 1 Axes>"
      ]
     },
     "metadata": {
      "needs_background": "light"
     },
     "output_type": "display_data"
    }
   ],
   "source": [
    "df = pd.DataFrame(pca.fit_transform(X))\n",
    "plt.scatter(df[0],df[1])"
   ]
  }
 ],
 "metadata": {
  "kernelspec": {
   "display_name": "Python 3 (ipykernel)",
   "language": "python",
   "name": "python3"
  },
  "language_info": {
   "codemirror_mode": {
    "name": "ipython",
    "version": 3
   },
   "file_extension": ".py",
   "mimetype": "text/x-python",
   "name": "python",
   "nbconvert_exporter": "python",
   "pygments_lexer": "ipython3",
   "version": "3.9.12"
  }
 },
 "nbformat": 4,
 "nbformat_minor": 5
}
