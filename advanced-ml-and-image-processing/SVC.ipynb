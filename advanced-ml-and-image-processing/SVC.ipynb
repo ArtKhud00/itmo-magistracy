{
 "cells": [
  {
   "cell_type": "markdown",
   "id": "ee97eb09",
   "metadata": {},
   "source": [
    "# Метод опорных векторов"
   ]
  },
  {
   "cell_type": "code",
   "execution_count": 29,
   "id": "404aa64d",
   "metadata": {},
   "outputs": [],
   "source": [
    "import cv2\n",
    "from sklearn.svm import LinearSVC\n",
    "from imutils import paths\n",
    "from sklearn.model_selection import train_test_split\n",
    "import matplotlib.pyplot as plt\n",
    "import numpy as np\n",
    "from sklearn import metrics\n",
    "from sklearn.metrics import precision_score\n",
    "from sklearn.metrics import recall_score"
   ]
  },
  {
   "cell_type": "markdown",
   "id": "a97f4693",
   "metadata": {},
   "source": [
    "### Сортировка названий картинок "
   ]
  },
  {
   "cell_type": "code",
   "execution_count": 8,
   "id": "5554c877",
   "metadata": {},
   "outputs": [],
   "source": [
    "imagePaths = sorted(list(paths.list_images(\"train_task\\\\train\")))"
   ]
  },
  {
   "cell_type": "code",
   "execution_count": 44,
   "id": "7a732d95",
   "metadata": {},
   "outputs": [],
   "source": [
    "#print(imagePaths)"
   ]
  },
  {
   "cell_type": "markdown",
   "id": "1572a2b6",
   "metadata": {},
   "source": [
    "### Получение гистограмм изображений - характеристик распределения интенсивности изображения, кодировка котов нулями и собак 1"
   ]
  },
  {
   "cell_type": "code",
   "execution_count": 19,
   "id": "855a6931",
   "metadata": {},
   "outputs": [],
   "source": [
    "def extract_histogram(image, bins=(8, 8, 8)):\n",
    "    hist = cv2.calcHist([image], [0, 1, 2], None, bins, [0, 256, 0, 256, 0, 256])\n",
    "    cv2.normalize(hist, hist)\n",
    "    return hist.flatten()\n",
    "\n",
    "def classification(image_path: list[str]) -> list[int]:\n",
    "    y = []\n",
    "    for image in imagePaths:\n",
    "        if ('cat' in image):\n",
    "            y.append(0)\n",
    "        elif ('dog' in image):\n",
    "            y.append(1)\n",
    "        else:\n",
    "            y.append(-1)\n",
    "    return y"
   ]
  },
  {
   "cell_type": "markdown",
   "id": "9b7f1f4c",
   "metadata": {},
   "source": [
    "### Подготовка данных для обучения: "
   ]
  },
  {
   "cell_type": "markdown",
   "id": "f7db2592",
   "metadata": {},
   "source": [
    "1. Получение гистограмм для каждого изображения из набора данных\n",
    "2. Определение отклика для изображений (0 -кот; 1 - собака)\n",
    "3. Разделение данных на тренировочные и тестировочные в соотношении 75/25"
   ]
  },
  {
   "cell_type": "code",
   "execution_count": 20,
   "id": "82e94605",
   "metadata": {},
   "outputs": [],
   "source": [
    "X = [extract_histogram(cv2.imread(image)) for image in imagePaths]\n",
    "y = np.array(classification(imagePaths))\n",
    "X_train, X_test, y_train, y_test = train_test_split(\n",
    "     X, y, test_size = 0.25, random_state = 19)"
   ]
  },
  {
   "cell_type": "markdown",
   "id": "532e4eb1",
   "metadata": {},
   "source": [
    "### Изображения для которых необходимо определить отклик "
   ]
  },
  {
   "cell_type": "code",
   "execution_count": 37,
   "id": "3dedd0ad",
   "metadata": {},
   "outputs": [],
   "source": [
    "SAMPLE_LIST = [\"test_task\\\\test\\\\cat.1002.jpg\",\n",
    "               \"test_task\\\\test\\\\cat.1018.jpg\",\n",
    "               \"test_task\\\\test\\\\dog.1022.jpg\",\n",
    "               \"test_task\\\\test\\\\dog.1035.jpg\"]"
   ]
  },
  {
   "cell_type": "markdown",
   "id": "3e7ff03d",
   "metadata": {},
   "source": [
    "### Обучение классификатора LinearSVC"
   ]
  },
  {
   "cell_type": "code",
   "execution_count": 25,
   "id": "351f8566",
   "metadata": {},
   "outputs": [
    {
     "data": {
      "text/plain": [
       "LinearSVC(C=0.6, random_state=19)"
      ]
     },
     "execution_count": 25,
     "metadata": {},
     "output_type": "execute_result"
    }
   ],
   "source": [
    "clf = LinearSVC(C=0.6,random_state=19)\n",
    "clf.fit(X_train, y_train)"
   ]
  },
  {
   "cell_type": "markdown",
   "id": "dcce18a9",
   "metadata": {},
   "source": [
    "### Расчет точности (precision), полноты (recall) и значение метрики F1 "
   ]
  },
  {
   "cell_type": "code",
   "execution_count": 42,
   "id": "08d9ba35",
   "metadata": {},
   "outputs": [
    {
     "name": "stdout",
     "output_type": "stream",
     "text": [
      "(1, 512)\n",
      "[0]\n",
      "Precision =  0.7368421052631579\n",
      "Recall =  0.4794520547945205\n",
      "F1 =  0.5930291738092567\n"
     ]
    }
   ],
   "source": [
    "Test_sample = np.array(extract_histogram(cv2.imread(SAMPLE_LIST[3]))).reshape(1,-1)\n",
    "print(Test_sample.shape)\n",
    "print(clf.predict(Test_sample))\n",
    "y_predicted = np.array(clf.predict(X_test))\n",
    "precision = precision_score(y_test, y_predicted)\n",
    "print(\"Precision = \",precision)\n",
    "recall = recall_score(y_test, y_predicted)\n",
    "print(\"Recall = \", recall)\n",
    "F1 = metrics.f1_score(y_test, y_predicted, average = 'weighted')\n",
    "print('F1 = ', F1)"
   ]
  },
  {
   "cell_type": "markdown",
   "id": "beac9577",
   "metadata": {},
   "source": [
    "### Интересуемые коэффициенты построенной гиперплоскости "
   ]
  },
  {
   "cell_type": "code",
   "execution_count": 43,
   "id": "8ecd5089",
   "metadata": {},
   "outputs": [
    {
     "name": "stdout",
     "output_type": "stream",
     "text": [
      "11=  -0.4201340427108207  13 =  -0.08045077402199619  318 =  -0.09495677350239234\n"
     ]
    }
   ],
   "source": [
    "print(\"11= \",clf.coef_[0][10],\" 13 = \",clf.coef_[0][12], \" 318 = \",clf.coef_[0][317])"
   ]
  },
  {
   "cell_type": "markdown",
   "id": "73736c4b",
   "metadata": {},
   "source": [
    "### Определение классов для определенных ранее изображений"
   ]
  },
  {
   "cell_type": "code",
   "execution_count": 38,
   "id": "ff927a26",
   "metadata": {},
   "outputs": [
    {
     "name": "stdout",
     "output_type": "stream",
     "text": [
      "[0]\n",
      "[0]\n",
      "[0]\n",
      "[0]\n"
     ]
    }
   ],
   "source": [
    "Test_sample = np.array(extract_histogram(cv2.imread(SAMPLE_LIST[0]))).reshape(1,-1)\n",
    "print(clf.predict(Test_sample))\n",
    "Test_sample1 = np.array(extract_histogram(cv2.imread(SAMPLE_LIST[1]))).reshape(1,-1)\n",
    "print(clf.predict(Test_sample1))\n",
    "Test_sample2 = np.array(extract_histogram(cv2.imread(SAMPLE_LIST[2]))).reshape(1,-1)\n",
    "print(clf.predict(Test_sample2))\n",
    "Test_sample3 = np.array(extract_histogram(cv2.imread(SAMPLE_LIST[3]))).reshape(1,-1)\n",
    "print(clf.predict(Test_sample3))\n"
   ]
  }
 ],
 "metadata": {
  "kernelspec": {
   "display_name": "Python 3 (ipykernel)",
   "language": "python",
   "name": "python3"
  },
  "language_info": {
   "codemirror_mode": {
    "name": "ipython",
    "version": 3
   },
   "file_extension": ".py",
   "mimetype": "text/x-python",
   "name": "python",
   "nbconvert_exporter": "python",
   "pygments_lexer": "ipython3",
   "version": "3.9.12"
  }
 },
 "nbformat": 4,
 "nbformat_minor": 5
}
